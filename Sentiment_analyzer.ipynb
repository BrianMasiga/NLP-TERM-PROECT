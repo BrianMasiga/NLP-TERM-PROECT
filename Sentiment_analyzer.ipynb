{
 "cells": [
  {
   "cell_type": "code",
   "execution_count": 42,
   "metadata": {},
   "outputs": [],
   "source": [
    "import numpy as np\n",
    "import pandas as pd"
   ]
  },
  {
   "cell_type": "code",
   "execution_count": 43,
   "metadata": {},
   "outputs": [
    {
     "name": "stdout",
     "output_type": "stream",
     "text": [
      "                                              review sentiment\n",
      "0  One of the other reviewers has mentioned that ...  positive\n",
      "1  A wonderful little production. <br /><br />The...  positive\n",
      "2  I thought this was a wonderful way to spend ti...  positive\n",
      "3  Basically there's a family where a little boy ...  negative\n",
      "4  Petter Mattei's \"Love in the Time of Money\" is...  positive\n",
      "5  Probably my all-time favorite movie, a story o...  positive\n",
      "6  I sure would like to see a resurrection of a u...  positive\n",
      "7  This show was an amazing, fresh & innovative i...  negative\n",
      "8  Encouraged by the positive comments about this...  negative\n",
      "9  If you like original gut wrenching laughter yo...  positive\n"
     ]
    }
   ],
   "source": [
    "# Load the dataset\n",
    "data = pd.read_csv(\"IMDB_Dataset.csv\")\n",
    "\n",
    "# Print the first 10 rows of the dataset\n",
    "print(data.head(10))"
   ]
  },
  {
   "cell_type": "code",
   "execution_count": 44,
   "metadata": {},
   "outputs": [
    {
     "name": "stdout",
     "output_type": "stream",
     "text": [
      "Training set shape: (40000, 2)\n",
      "Testing set shape: (10000, 2)\n"
     ]
    }
   ],
   "source": [
    "from sklearn.model_selection import train_test_split\n",
    "\n",
    "# Split the dataset into training and testing sets\n",
    "train_data, test_data = train_test_split(data, test_size=0.2, random_state=42)\n",
    "\n",
    "# Print the shape of the training and testing sets\n",
    "print(\"Training set shape:\", train_data.shape)\n",
    "print(\"Testing set shape:\", test_data.shape)"
   ]
  },
  {
   "cell_type": "code",
   "execution_count": 45,
   "metadata": {},
   "outputs": [
    {
     "name": "stdout",
     "output_type": "stream",
     "text": [
      "Naïve Bayes accuracy: 0.8565\n",
      "Naïve Bayes precision: 0.8570981140127285\n",
      "Naïve Bayes recall: 0.8565\n",
      "Naïve Bayes confusion matrix:\n",
      " [[4342  619]\n",
      " [ 816 4223]]\n",
      "Support Vector Machine accuracy: 0.8621\n",
      "Support Vector Machine precision: 0.8621011415216031\n",
      "Support Vector Machine recall: 0.8621\n",
      "Support Vector Machine confusion matrix:\n",
      " [[4262  699]\n",
      " [ 680 4359]]\n"
     ]
    }
   ],
   "source": [
    "from sklearn.metrics import accuracy_score, precision_score, recall_score, confusion_matrix\n",
    "from sklearn.feature_extraction.text import CountVectorizer\n",
    "from sklearn.naive_bayes import MultinomialNB\n",
    "from sklearn.svm import LinearSVC\n",
    "from sklearn.linear_model import LogisticRegression\n",
    "\n",
    "# Initialize the vectorizer\n",
    "vectorizer = CountVectorizer(stop_words='english')\n",
    "\n",
    "# Vectorize the training data\n",
    "train_vectors = vectorizer.fit_transform(train_data['review'])\n",
    "\n",
    "# Vectorize the testing data\n",
    "test_vectors = vectorizer.transform(test_data['review'])\n",
    "\n",
    "# Train the Naïve Bayes model\n",
    "nb_model = MultinomialNB()\n",
    "nb_model.fit(train_vectors, train_data['sentiment'])\n",
    "\n",
    "# Evaluate the Naïve Bayes model\n",
    "nb_predictions = nb_model.predict(test_vectors)\n",
    "print(\"Naïve Bayes accuracy:\", accuracy_score(test_data['sentiment'], nb_predictions))\n",
    "print(\"Naïve Bayes precision:\", precision_score(test_data['sentiment'], nb_predictions, average='weighted'))\n",
    "print(\"Naïve Bayes recall:\", recall_score(test_data['sentiment'], nb_predictions, average='weighted'))\n",
    "print(\"Naïve Bayes confusion matrix:\\n\", confusion_matrix(test_data['sentiment'], nb_predictions))\n",
    "\n",
    "# Training the Support Vector Machine model with a higher max_iter parameter\n",
    "svm_model = LinearSVC(max_iter=50000)\n",
    "svm_model.fit(train_vectors, train_data['sentiment'])\n",
    "\n",
    "# Evaluate the Support Vector Machine model\n",
    "svm_predictions = svm_model.predict(test_vectors)\n",
    "svm_accuracy = accuracy_score(test_data['sentiment'], svm_predictions)\n",
    "svm_precision = precision_score(test_data['sentiment'], svm_predictions, average='weighted')\n",
    "svm_recall = recall_score(test_data['sentiment'], svm_predictions, average='weighted')\n",
    "svm_confusion_matrix = confusion_matrix(test_data['sentiment'], svm_predictions)\n",
    "\n",
    "print(\"Support Vector Machine accuracy:\", svm_accuracy)\n",
    "print(\"Support Vector Machine precision:\", svm_precision)\n",
    "print(\"Support Vector Machine recall:\", svm_recall)\n",
    "print(\"Support Vector Machine confusion matrix:\\n\", svm_confusion_matrix)\n",
    "\n"
   ]
  },
  {
   "cell_type": "code",
   "execution_count": 46,
   "metadata": {},
   "outputs": [
    {
     "name": "stdout",
     "output_type": "stream",
     "text": [
      "The sentiment of this tweet is :positive\n"
     ]
    },
    {
     "name": "stderr",
     "output_type": "stream",
     "text": [
      "c:\\Users\\HP\\AppData\\Local\\Programs\\Python\\Python311\\Lib\\site-packages\\sklearn\\svm\\_base.py:1244: ConvergenceWarning: Liblinear failed to converge, increase the number of iterations.\n",
      "  warnings.warn(\n"
     ]
    }
   ],
   "source": [
    "# Load the trained Support Vector Machine model\n",
    "svm_model = LinearSVC()\n",
    "svm_model.fit(train_vectors, train_data['sentiment'])\n",
    "\n",
    "# Process the new tweet\n",
    "new_tweet = \"I just watched a great movie today\"\n",
    "new_tweet_vector = vectorizer.transform([new_tweet])\n",
    "\n",
    "# Predict the sentiment of the new tweet\n",
    "new_tweet_sentiment = svm_model.predict(new_tweet_vector)\n",
    "\n",
    "print(\"The sentiment of this tweet is : \" + new_tweet_sentiment[0])"
   ]
  }
 ],
 "metadata": {
  "kernelspec": {
   "display_name": "Python 3",
   "language": "python",
   "name": "python3"
  },
  "language_info": {
   "codemirror_mode": {
    "name": "ipython",
    "version": 3
   },
   "file_extension": ".py",
   "mimetype": "text/x-python",
   "name": "python",
   "nbconvert_exporter": "python",
   "pygments_lexer": "ipython3",
   "version": "3.11.2"
  },
  "orig_nbformat": 4
 },
 "nbformat": 4,
 "nbformat_minor": 2
}
