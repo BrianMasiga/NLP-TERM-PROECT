{
 "cells": [
  {
   "cell_type": "code",
   "execution_count": null,
   "metadata": {},
   "outputs": [],
   "source": [
    "import numpy as np\n",
    "import pandas as pd"
   ]
  },
  {
   "cell_type": "code",
   "execution_count": null,
   "metadata": {},
   "outputs": [],
   "source": [
    "# Load the dataset\n",
    "data = pd.read_csv(\"IMDB_Dataset.csv\")\n",
    "\n",
    "# Print the first 10 rows of the dataset\n",
    "print(data.head(10))"
   ]
  },
  {
   "cell_type": "code",
   "execution_count": null,
   "metadata": {},
   "outputs": [],
   "source": [
    "from sklearn.model_selection import train_test_split\n",
    "\n",
    "# Split the dataset into training and testing sets\n",
    "train_data, test_data = train_test_split(data, test_size=0.2, random_state=42)\n",
    "\n",
    "# Print the shape of the training and testing sets\n",
    "print(\"Training set shape:\", train_data.shape)\n",
    "print(\"Testing set shape:\", test_data.shape)"
   ]
  },
  {
   "cell_type": "code",
   "execution_count": null,
   "metadata": {},
   "outputs": [],
   "source": [
    "from sklearn.metrics import accuracy_score, precision_score, recall_score, confusion_matrix\n",
    "from sklearn.feature_extraction.text import CountVectorizer\n",
    "from sklearn.naive_bayes import MultinomialNB\n",
    "from sklearn.svm import LinearSVC\n",
    "from sklearn.linear_model import LogisticRegression\n",
    "\n",
    "# Initialize the vectorizer\n",
    "vectorizer = CountVectorizer(stop_words='english')\n",
    "\n",
    "# Vectorize the training data\n",
    "train_vectors = vectorizer.fit_transform(train_data['review'])\n",
    "\n",
    "# Vectorize the testing data\n",
    "test_vectors = vectorizer.transform(test_data['review'])\n",
    "\n",
    "# Train the Naïve Bayes model\n",
    "nb_model = MultinomialNB()\n",
    "nb_model.fit(train_vectors, train_data['sentiment'])\n",
    "\n",
    "# Evaluate the Naïve Bayes model\n",
    "nb_predictions = nb_model.predict(test_vectors)\n",
    "print(\"Naïve Bayes accuracy:\", accuracy_score(test_data['sentiment'], nb_predictions))\n",
    "print(\"Naïve Bayes precision:\", precision_score(test_data['sentiment'], nb_predictions, average='weighted'))\n",
    "print(\"Naïve Bayes recall:\", recall_score(test_data['sentiment'], nb_predictions, average='weighted'))\n",
    "print(\"Naïve Bayes confusion matrix:\\n\", confusion_matrix(test_data['sentiment'], nb_predictions))\n",
    "\n",
    "# Training the Support Vector Machine model with a higher max_iter parameter\n",
    "svm_model = LinearSVC(max_iter=50000)\n",
    "svm_model.fit(train_vectors, train_data['sentiment'])\n",
    "\n",
    "# Evaluate the Support Vector Machine model\n",
    "svm_predictions = svm_model.predict(test_vectors)\n",
    "svm_accuracy = accuracy_score(test_data['sentiment'], svm_predictions)\n",
    "svm_precision = precision_score(test_data['sentiment'], svm_predictions, average='weighted')\n",
    "svm_recall = recall_score(test_data['sentiment'], svm_predictions, average='weighted')\n",
    "svm_confusion_matrix = confusion_matrix(test_data['sentiment'], svm_predictions)\n",
    "\n",
    "print(\"Support Vector Machine accuracy:\", svm_accuracy)\n",
    "print(\"Support Vector Machine precision:\", svm_precision)\n",
    "print(\"Support Vector Machine recall:\", svm_recall)\n",
    "print(\"Support Vector Machine confusion matrix:\\n\", svm_confusion_matrix)\n",
    "\n"
   ]
  },
  {
   "cell_type": "code",
   "execution_count": 17,
   "metadata": {},
   "outputs": [
    {
     "name": "stdout",
     "output_type": "stream",
     "text": [
      "The sentiment of this tweet is : negative\n"
     ]
    },
    {
     "name": "stderr",
     "output_type": "stream",
     "text": [
      "c:\\Users\\HP\\AppData\\Local\\Programs\\Python\\Python311\\Lib\\site-packages\\sklearn\\svm\\_base.py:1244: ConvergenceWarning: Liblinear failed to converge, increase the number of iterations.\n",
      "  warnings.warn(\n"
     ]
    }
   ],
   "source": [
    "from sklearn.svm import LinearSVC\n",
    "# Load the trained Support Vector Machine model\n",
    "svm_model = LinearSVC()\n",
    "svm_model.fit(train_vectors, train_data['sentiment'])\n",
    "\n",
    "# Process the new tweet\n",
    "tweet = \"I just watched a horrible movie today\"\n",
    "new_tweet_vector = vectorizer.transform([tweet])\n",
    "\n",
    "# Predict the sentiment of the new tweet\n",
    "new_tweet_sentiment = svm_model.predict(new_tweet_vector)\n",
    "\n",
    "# Print the sentiment of the new tweet\n",
    "print(\"The sentiment of this tweet is : \" + new_tweet_sentiment[0])"
   ]
  },
  {
   "cell_type": "code",
   "execution_count": 19,
   "metadata": {},
   "outputs": [
    {
     "name": "stderr",
     "output_type": "stream",
     "text": [
      "c:\\Users\\HP\\AppData\\Local\\Programs\\Python\\Python311\\Lib\\site-packages\\gradio\\inputs.py:27: UserWarning: Usage of gradio.inputs is deprecated, and will not be supported in the future, please import your component from gradio.components\n",
      "  warnings.warn(\n",
      "c:\\Users\\HP\\AppData\\Local\\Programs\\Python\\Python311\\Lib\\site-packages\\gradio\\deprecation.py:40: UserWarning: `optional` parameter is deprecated, and it has no effect\n",
      "  warnings.warn(value)\n",
      "c:\\Users\\HP\\AppData\\Local\\Programs\\Python\\Python311\\Lib\\site-packages\\gradio\\deprecation.py:40: UserWarning: `numeric` parameter is deprecated, and it has no effect\n",
      "  warnings.warn(value)\n",
      "c:\\Users\\HP\\AppData\\Local\\Programs\\Python\\Python311\\Lib\\site-packages\\gradio\\outputs.py:197: UserWarning: Usage of gradio.outputs is deprecated, and will not be supported in the future, please import your components from gradio.components\n",
      "  warnings.warn(\n",
      "c:\\Users\\HP\\AppData\\Local\\Programs\\Python\\Python311\\Lib\\site-packages\\gradio\\deprecation.py:40: UserWarning: The 'type' parameter has been deprecated. Use the Number component instead.\n",
      "  warnings.warn(value)\n"
     ]
    },
    {
     "name": "stdout",
     "output_type": "stream",
     "text": [
      "Running on local URL:  http://127.0.0.1:7870\n",
      "Running on public URL: https://303cd810b55fad852a.gradio.live\n",
      "\n",
      "This share link expires in 72 hours. For free permanent hosting and GPU upgrades (NEW!), check out Spaces: https://huggingface.co/spaces\n"
     ]
    },
    {
     "data": {
      "text/html": [
       "<div><iframe src=\"https://303cd810b55fad852a.gradio.live\" width=\"100%\" height=\"500\" allow=\"autoplay; camera; microphone; clipboard-read; clipboard-write;\" frameborder=\"0\" allowfullscreen></iframe></div>"
      ],
      "text/plain": [
       "<IPython.core.display.HTML object>"
      ]
     },
     "metadata": {},
     "output_type": "display_data"
    },
    {
     "data": {
      "text/plain": []
     },
     "execution_count": 19,
     "metadata": {},
     "output_type": "execute_result"
    }
   ],
   "source": [
    "import gradio as gr\n",
    "\n",
    "def predict_sentiment(tweet):\n",
    "    # Process the new tweet\n",
    "    new_tweet_vector = vectorizer.transform([tweet])\n",
    "\n",
    "    # Predict the sentiment of the new tweet\n",
    "    new_tweet_sentiment = svm_model.predict(new_tweet_vector)\n",
    "\n",
    "    return new_tweet_sentiment[0]\n",
    "\n",
    "tweet_input = gr.inputs.Textbox(lines=3, label=\"Enter your tweet\")\n",
    "prediction = gr.outputs.Label(label=\"The Sentiment of this tweet is : \")\n",
    "\n",
    "gr.Interface(fn=predict_sentiment, inputs=tweet_input, outputs=prediction, title=\"IMDB Movie Sentiment Analyzer by Brian Masiga 19S01ACS009\", \n",
    "             description=\"Enter a tweet about an IMDB movie and get its sentiment prediction.\").launch(share=True)\n"
   ]
  }
 ],
 "metadata": {
  "kernelspec": {
   "display_name": "Python 3",
   "language": "python",
   "name": "python3"
  },
  "language_info": {
   "codemirror_mode": {
    "name": "ipython",
    "version": 3
   },
   "file_extension": ".py",
   "mimetype": "text/x-python",
   "name": "python",
   "nbconvert_exporter": "python",
   "pygments_lexer": "ipython3",
   "version": "3.11.2"
  },
  "orig_nbformat": 4
 },
 "nbformat": 4,
 "nbformat_minor": 2
}
