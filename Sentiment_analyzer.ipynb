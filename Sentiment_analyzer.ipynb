{
 "cells": [
  {
   "cell_type": "code",
   "execution_count": 1,
   "metadata": {},
   "outputs": [],
   "source": [
    "import numpy as np\n",
    "import pandas as pd"
   ]
  },
  {
   "cell_type": "code",
   "execution_count": 2,
   "metadata": {},
   "outputs": [
    {
     "name": "stdout",
     "output_type": "stream",
     "text": [
      "                                                text sentiment\n",
      "0                 team 2019merimera alikuwa takataka  negative\n",
      "1                                     sijafurahishwa  negative\n",
      "2                                      kubuni dosari  negative\n",
      "3                  bila kusema nilipoteza pesa zangu  negative\n",
      "4                       sema kupoteza pesa na wakati  negative\n",
      "5  ubunifu ni isiyo ya kawaida sana kwani kipande...  negative\n",
      "6                                  akili yako imeoza  negative\n",
      "7                            aki si maisha ni magumu  negative\n",
      "8                           enyewe safaricom ni wezi  negative\n",
      "9  mtandao duni hata line yao niliweka nyuma ya s...  negative\n"
     ]
    }
   ],
   "source": [
    "# Load the dataset\n",
    "data = pd.read_csv(\"swahilidataset.csv\")\n",
    "\n",
    "# Print the first 10 rows of the dataset\n",
    "print(data.head(10))"
   ]
  },
  {
   "cell_type": "code",
   "execution_count": 3,
   "metadata": {},
   "outputs": [
    {
     "name": "stdout",
     "output_type": "stream",
     "text": [
      "Training set shape: (3140, 2)\n",
      "Testing set shape: (785, 2)\n"
     ]
    }
   ],
   "source": [
    "from sklearn.model_selection import train_test_split\n",
    "\n",
    "# Split the dataset into training and testing sets\n",
    "train_data, test_data = train_test_split(data, test_size=0.2, random_state=42)\n",
    "\n",
    "# Print the shape of the training and testing sets\n",
    "print(\"Training set shape:\", train_data.shape)\n",
    "print(\"Testing set shape:\", test_data.shape)"
   ]
  },
  {
   "cell_type": "code",
   "execution_count": 4,
   "metadata": {},
   "outputs": [
    {
     "name": "stdout",
     "output_type": "stream",
     "text": [
      "Naïve Bayes accuracy: 0.7668789808917198\n",
      "Naïve Bayes precision: 0.7670645025913913\n",
      "Naïve Bayes recall: 0.7668789808917198\n",
      "Naïve Bayes confusion matrix:\n",
      " [[295  88]\n",
      " [ 95 307]]\n",
      "Support Vector Machine accuracy: 0.7910828025477707\n",
      "Support Vector Machine precision: 0.7911645821067019\n",
      "Support Vector Machine recall: 0.7910828025477707\n",
      "Support Vector Machine confusion matrix:\n",
      " [[303  80]\n",
      " [ 84 318]]\n"
     ]
    }
   ],
   "source": [
    "from sklearn.metrics import accuracy_score, precision_score, recall_score, confusion_matrix\n",
    "from sklearn.feature_extraction.text import CountVectorizer\n",
    "from sklearn.naive_bayes import MultinomialNB\n",
    "from sklearn.svm import LinearSVC\n",
    "from sklearn.linear_model import LogisticRegression\n",
    "\n",
    "# Defining my custom list of swahili stop words\n",
    "my_sw_stop_words = [\"akasema\",\"alikuwa\",\"alisema\",\"baada\",\"basi\",\"bila\",\"cha\",\"chini\",\"hadi\",\"hapo\",\"hata\",\"hivyo\",\"hiyo\",\"huku\",\"huo\",\"ili\",\"ilikuwa\",\"juu\",\"kama\",\"karibu\",\"katika\",\"kila\",\"kima\",\"kisha\",\"kubwa\",\"kutoka\",\"kuwa\",\"kwa\",\"kwamba\",\"kwenda\",\"kwenye\",\"la\",\"lakini\",\"mara\",\"mdogo\",\"mimi\",\"mkubwa\",\"mmoja\",\"moja\",\"muda\",\"mwenye\",\"na\",\"naye\",\"ndani\",\"ng\",\"ni\",\"nini\",\"nonkungu\",\"pamoja\",\"pia\",\"sana\",\"sasa\",\"sauti\",\"tafadhali\",\"tena\",\"tu\",\"vile\",\"wa\",\"wakati\",\"wake\",\"walikuwa\",\"wao\",\"watu\",\"wengine\",\"wote\",\"ya\",\"yake\",\"yangu\",\"yao\",\"yeye\",\"yule\",\"za\",\"zaidi\",\"zake\"]\n",
    "\n",
    "# Create a CountVectorizer object with your custom stop words\n",
    "vectorizer = CountVectorizer(stop_words=my_sw_stop_words)\n",
    "\n",
    "# Vectorize the training data\n",
    "train_vectors = vectorizer.fit_transform(train_data['text'])\n",
    "\n",
    "# Vectorize the testing data\n",
    "test_vectors = vectorizer.transform(test_data['text'])\n",
    "\n",
    "# Train the Naïve Bayes model\n",
    "nb_model = MultinomialNB()\n",
    "nb_model.fit(train_vectors, train_data['sentiment'])\n",
    "\n",
    "# Evaluate the Naïve Bayes model\n",
    "nb_predictions = nb_model.predict(test_vectors)\n",
    "print(\"Naïve Bayes accuracy:\", accuracy_score(test_data['sentiment'], nb_predictions))\n",
    "print(\"Naïve Bayes precision:\", precision_score(test_data['sentiment'], nb_predictions, average='weighted'))\n",
    "print(\"Naïve Bayes recall:\", recall_score(test_data['sentiment'], nb_predictions, average='weighted'))\n",
    "print(\"Naïve Bayes confusion matrix:\\n\", confusion_matrix(test_data['sentiment'], nb_predictions))\n",
    "\n",
    "# Training the Support Vector Machine model with a higher max_iter parameter\n",
    "svm_model = LinearSVC(max_iter=50000)\n",
    "svm_model.fit(train_vectors, train_data['sentiment'])\n",
    "\n",
    "# Evaluate the Support Vector Machine model\n",
    "svm_predictions = svm_model.predict(test_vectors)\n",
    "svm_accuracy = accuracy_score(test_data['sentiment'], svm_predictions)\n",
    "svm_precision = precision_score(test_data['sentiment'], svm_predictions, average='weighted')\n",
    "svm_recall = recall_score(test_data['sentiment'], svm_predictions, average='weighted')\n",
    "svm_confusion_matrix = confusion_matrix(test_data['sentiment'], svm_predictions)\n",
    "\n",
    "print(\"Support Vector Machine accuracy:\", svm_accuracy)\n",
    "print(\"Support Vector Machine precision:\", svm_precision)\n",
    "print(\"Support Vector Machine recall:\", svm_recall)\n",
    "print(\"Support Vector Machine confusion matrix:\\n\", svm_confusion_matrix)\n",
    "\n"
   ]
  },
  {
   "cell_type": "code",
   "execution_count": 18,
   "metadata": {},
   "outputs": [
    {
     "name": "stdout",
     "output_type": "stream",
     "text": [
      "The sentiment of this swahili text is : positive\n"
     ]
    }
   ],
   "source": [
    "from sklearn.svm import LinearSVC\n",
    "# Load the trained Support Vector Machine model\n",
    "svm_model = LinearSVC()\n",
    "svm_model.fit(train_vectors, train_data['sentiment'])\n",
    "\n",
    "# Process the new tweet\n",
    "tweet = \"wimbo mzuri sana unafundisha kwa hawa warembo wetu wa kileo majivuno kibao\"\n",
    "new_tweet_vector = vectorizer.transform([tweet])\n",
    "\n",
    "# Predict the sentiment of the new tweet\n",
    "new_tweet_sentiment = svm_model.predict(new_tweet_vector)\n",
    "\n",
    "# Print the sentiment of the new tweet\n",
    "print(\"The sentiment of this swahili text is : \" + new_tweet_sentiment[0])"
   ]
  },
  {
   "cell_type": "code",
   "execution_count": 19,
   "metadata": {},
   "outputs": [
    {
     "name": "stderr",
     "output_type": "stream",
     "text": [
      "/home/codespace/.python/current/lib/python3.10/site-packages/gradio/inputs.py:27: UserWarning: Usage of gradio.inputs is deprecated, and will not be supported in the future, please import your component from gradio.components\n",
      "  warnings.warn(\n",
      "/home/codespace/.python/current/lib/python3.10/site-packages/gradio/deprecation.py:40: UserWarning: `optional` parameter is deprecated, and it has no effect\n",
      "  warnings.warn(value)\n",
      "/home/codespace/.python/current/lib/python3.10/site-packages/gradio/deprecation.py:40: UserWarning: `numeric` parameter is deprecated, and it has no effect\n",
      "  warnings.warn(value)\n",
      "/home/codespace/.python/current/lib/python3.10/site-packages/gradio/outputs.py:197: UserWarning: Usage of gradio.outputs is deprecated, and will not be supported in the future, please import your components from gradio.components\n",
      "  warnings.warn(\n",
      "/home/codespace/.python/current/lib/python3.10/site-packages/gradio/deprecation.py:40: UserWarning: The 'type' parameter has been deprecated. Use the Number component instead.\n",
      "  warnings.warn(value)\n"
     ]
    },
    {
     "name": "stdout",
     "output_type": "stream",
     "text": [
      "Running on local URL:  http://127.0.0.1:7862\n",
      "Running on public URL: https://5fe1e7400fb5a8a0af.gradio.live\n",
      "\n",
      "This share link expires in 72 hours. For free permanent hosting and GPU upgrades (NEW!), check out Spaces: https://huggingface.co/spaces\n"
     ]
    },
    {
     "data": {
      "text/html": [
       "<div><iframe src=\"https://5fe1e7400fb5a8a0af.gradio.live\" width=\"100%\" height=\"500\" allow=\"autoplay; camera; microphone; clipboard-read; clipboard-write;\" frameborder=\"0\" allowfullscreen></iframe></div>"
      ],
      "text/plain": [
       "<IPython.core.display.HTML object>"
      ]
     },
     "metadata": {},
     "output_type": "display_data"
    },
    {
     "data": {
      "text/plain": []
     },
     "execution_count": 19,
     "metadata": {},
     "output_type": "execute_result"
    }
   ],
   "source": [
    "import gradio as gr\n",
    "\n",
    "def predict_sentiment(tweet):\n",
    "    # Process the new tweet\n",
    "    new_tweet_vector = vectorizer.transform([tweet])\n",
    "\n",
    "    # Predict the sentiment of the new tweet\n",
    "    new_tweet_sentiment = svm_model.predict(new_tweet_vector)\n",
    "\n",
    "    return new_tweet_sentiment[0]\n",
    "\n",
    "tweet_input = gr.inputs.Textbox(lines=3, label=\"Enter your tweet\")\n",
    "prediction = gr.outputs.Label(label=\"The sentiment of this swahili text is : \")\n",
    "\n",
    "gr.Interface(fn=predict_sentiment, inputs=tweet_input, outputs=prediction, title=\"Swahili Sentiment Analyzer by Brian Masiga 19S01ACS009\", \n",
    "             description=\"Enter a swahili text and get its sentiment prediction.\").launch(share=True)\n"
   ]
  }
 ],
 "metadata": {
  "kernelspec": {
   "display_name": "Python 3",
   "language": "python",
   "name": "python3"
  },
  "language_info": {
   "codemirror_mode": {
    "name": "ipython",
    "version": 3
   },
   "file_extension": ".py",
   "mimetype": "text/x-python",
   "name": "python",
   "nbconvert_exporter": "python",
   "pygments_lexer": "ipython3",
   "version": "3.11.2"
  },
  "orig_nbformat": 4
 },
 "nbformat": 4,
 "nbformat_minor": 2
}
